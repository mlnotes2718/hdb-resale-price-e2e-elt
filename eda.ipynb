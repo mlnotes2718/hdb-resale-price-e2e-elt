{
 "cells": [
  {
   "cell_type": "markdown",
   "id": "bd27cb10",
   "metadata": {},
   "source": [
    "# EDA - HDB Resale Price for ELT"
   ]
  },
  {
   "cell_type": "code",
   "execution_count": 16,
   "id": "c27cc806",
   "metadata": {},
   "outputs": [],
   "source": [
    "import json\n",
    "import requests\n",
    "import time\n",
    "import pandas as pd"
   ]
  },
  {
   "cell_type": "markdown",
   "id": "79d1d08c",
   "metadata": {},
   "source": [
    "## Setup\n",
    "1. Paste the dataset ID you copied into the cell below\n",
    "2. Run All Cells (click `Runtime` -> `Run All`)"
   ]
  },
  {
   "cell_type": "code",
   "execution_count": 17,
   "id": "8099f902",
   "metadata": {},
   "outputs": [],
   "source": [
    "# Dataset ID for the EDA notebook\n",
    "DATASET_ID = \"d_8b84c4ee58e3cfc0ece0d773c8ca6abc\" # e.g. \"d_69b3380ad7e51aff3a7dcc84eba52b8a\""
   ]
  },
  {
   "cell_type": "markdown",
   "id": "4e987415",
   "metadata": {},
   "source": [
    "## Dataset and Column Metadata"
   ]
  },
  {
   "cell_type": "code",
   "execution_count": 18,
   "id": "1cfb4050",
   "metadata": {},
   "outputs": [
    {
     "name": "stdout",
     "output_type": "stream",
     "text": [
      "Dataset Metadata:\n",
      "{\n",
      "  \"datasetId\": \"d_8b84c4ee58e3cfc0ece0d773c8ca6abc\",\n",
      "  \"createdAt\": \"2021-07-28T10:37:00+08:00\",\n",
      "  \"name\": \"Resale flat prices based on registration date from Jan-2017 onwards\",\n",
      "  \"collectionIds\": [\n",
      "    \"189\"\n",
      "  ],\n",
      "  \"description\": \"Notes:\\n\\n1. The approximate floor area includes any recess area purchased, space adding item under HDB\\u2019s upgrading programmes, roof terrace, etc.\\n\\n2. The transactions exclude resale transactions that may not reflect the full market price such as resale between relatives and resale of part shares.\\n\\n3. Resale prices should be taken as indicative only as the resale prices agreed between buyers and sellers are dependent on many factors.\",\n",
      "  \"format\": \"CSV\",\n",
      "  \"lastUpdatedAt\": \"2025-07-11T02:09:19+08:00\",\n",
      "  \"managedBy\": \"Housing & Development Board\",\n",
      "  \"coverageStart\": \"2017-01-01T08:00:00+08:00\",\n",
      "  \"coverageEnd\": \"2025-07-01T08:00:00+08:00\",\n",
      "  \"contactEmails\": [\n",
      "    \"lau_pei_wen@hdb.gov.sg\"\n",
      "  ],\n",
      "  \"datasetSize\": 20840923\n",
      "}\n",
      "\n",
      "Columns:\n",
      " ['month', 'town', 'flat_type', 'block', 'street_name', 'storey_range', 'floor_area_sqm', 'flat_model', 'lease_commence_date', 'remaining_lease', 'resale_price']\n"
     ]
    }
   ],
   "source": [
    "# code supplied by data.gov.sg to download the dataset metadata\n",
    "s = requests.Session()\n",
    "s.headers.update({'referer': 'https://colab.research.google.com'})\n",
    "base_url = \"https://api-production.data.gov.sg\"\n",
    "url = base_url + f\"/v2/public/api/datasets/{DATASET_ID}/metadata\"\n",
    "#print(url)\n",
    "response = s.get(url)\n",
    "data = response.json()['data']\n",
    "columnMetadata = data.pop('columnMetadata', None)\n",
    "\n",
    "print(\"Dataset Metadata:\")\n",
    "print(json.dumps(data, indent=2))\n",
    "\n",
    "print(\"\\nColumns:\\n\", list(columnMetadata['map'].values()))\n"
   ]
  },
  {
   "cell_type": "markdown",
   "id": "ee9e4fc4",
   "metadata": {},
   "source": [
    "## Download File"
   ]
  },
  {
   "cell_type": "code",
   "execution_count": 19,
   "id": "0c84e59f",
   "metadata": {},
   "outputs": [
    {
     "data": {
      "text/html": [
       "<div>\n",
       "<style scoped>\n",
       "    .dataframe tbody tr th:only-of-type {\n",
       "        vertical-align: middle;\n",
       "    }\n",
       "\n",
       "    .dataframe tbody tr th {\n",
       "        vertical-align: top;\n",
       "    }\n",
       "\n",
       "    .dataframe thead th {\n",
       "        text-align: right;\n",
       "    }\n",
       "</style>\n",
       "<table border=\"1\" class=\"dataframe\">\n",
       "  <thead>\n",
       "    <tr style=\"text-align: right;\">\n",
       "      <th></th>\n",
       "      <th>month</th>\n",
       "      <th>town</th>\n",
       "      <th>flat_type</th>\n",
       "      <th>block</th>\n",
       "      <th>street_name</th>\n",
       "      <th>storey_range</th>\n",
       "      <th>floor_area_sqm</th>\n",
       "      <th>flat_model</th>\n",
       "      <th>lease_commence_date</th>\n",
       "      <th>remaining_lease</th>\n",
       "      <th>resale_price</th>\n",
       "    </tr>\n",
       "  </thead>\n",
       "  <tbody>\n",
       "    <tr>\n",
       "      <th>0</th>\n",
       "      <td>2017-01</td>\n",
       "      <td>ANG MO KIO</td>\n",
       "      <td>2 ROOM</td>\n",
       "      <td>406</td>\n",
       "      <td>ANG MO KIO AVE 10</td>\n",
       "      <td>10 TO 12</td>\n",
       "      <td>44.0</td>\n",
       "      <td>Improved</td>\n",
       "      <td>1979</td>\n",
       "      <td>61 years 04 months</td>\n",
       "      <td>232000.0</td>\n",
       "    </tr>\n",
       "    <tr>\n",
       "      <th>1</th>\n",
       "      <td>2017-01</td>\n",
       "      <td>ANG MO KIO</td>\n",
       "      <td>3 ROOM</td>\n",
       "      <td>108</td>\n",
       "      <td>ANG MO KIO AVE 4</td>\n",
       "      <td>01 TO 03</td>\n",
       "      <td>67.0</td>\n",
       "      <td>New Generation</td>\n",
       "      <td>1978</td>\n",
       "      <td>60 years 07 months</td>\n",
       "      <td>250000.0</td>\n",
       "    </tr>\n",
       "    <tr>\n",
       "      <th>2</th>\n",
       "      <td>2017-01</td>\n",
       "      <td>ANG MO KIO</td>\n",
       "      <td>3 ROOM</td>\n",
       "      <td>602</td>\n",
       "      <td>ANG MO KIO AVE 5</td>\n",
       "      <td>01 TO 03</td>\n",
       "      <td>67.0</td>\n",
       "      <td>New Generation</td>\n",
       "      <td>1980</td>\n",
       "      <td>62 years 05 months</td>\n",
       "      <td>262000.0</td>\n",
       "    </tr>\n",
       "    <tr>\n",
       "      <th>3</th>\n",
       "      <td>2017-01</td>\n",
       "      <td>ANG MO KIO</td>\n",
       "      <td>3 ROOM</td>\n",
       "      <td>465</td>\n",
       "      <td>ANG MO KIO AVE 10</td>\n",
       "      <td>04 TO 06</td>\n",
       "      <td>68.0</td>\n",
       "      <td>New Generation</td>\n",
       "      <td>1980</td>\n",
       "      <td>62 years 01 month</td>\n",
       "      <td>265000.0</td>\n",
       "    </tr>\n",
       "    <tr>\n",
       "      <th>4</th>\n",
       "      <td>2017-01</td>\n",
       "      <td>ANG MO KIO</td>\n",
       "      <td>3 ROOM</td>\n",
       "      <td>601</td>\n",
       "      <td>ANG MO KIO AVE 5</td>\n",
       "      <td>01 TO 03</td>\n",
       "      <td>67.0</td>\n",
       "      <td>New Generation</td>\n",
       "      <td>1980</td>\n",
       "      <td>62 years 05 months</td>\n",
       "      <td>265000.0</td>\n",
       "    </tr>\n",
       "  </tbody>\n",
       "</table>\n",
       "</div>"
      ],
      "text/plain": [
       "     month        town flat_type block        street_name storey_range  \\\n",
       "0  2017-01  ANG MO KIO    2 ROOM   406  ANG MO KIO AVE 10     10 TO 12   \n",
       "1  2017-01  ANG MO KIO    3 ROOM   108   ANG MO KIO AVE 4     01 TO 03   \n",
       "2  2017-01  ANG MO KIO    3 ROOM   602   ANG MO KIO AVE 5     01 TO 03   \n",
       "3  2017-01  ANG MO KIO    3 ROOM   465  ANG MO KIO AVE 10     04 TO 06   \n",
       "4  2017-01  ANG MO KIO    3 ROOM   601   ANG MO KIO AVE 5     01 TO 03   \n",
       "\n",
       "   floor_area_sqm      flat_model  lease_commence_date     remaining_lease  \\\n",
       "0            44.0        Improved                 1979  61 years 04 months   \n",
       "1            67.0  New Generation                 1978  60 years 07 months   \n",
       "2            67.0  New Generation                 1980  62 years 05 months   \n",
       "3            68.0  New Generation                 1980   62 years 01 month   \n",
       "4            67.0  New Generation                 1980  62 years 05 months   \n",
       "\n",
       "   resale_price  \n",
       "0      232000.0  \n",
       "1      250000.0  \n",
       "2      262000.0  \n",
       "3      265000.0  \n",
       "4      265000.0  "
      ]
     },
     "metadata": {},
     "output_type": "display_data"
    },
    {
     "name": "stdout",
     "output_type": "stream",
     "text": [
      "\n",
      "Dataframe loaded!\n"
     ]
    }
   ],
   "source": [
    "# code supplied by data.gov.sg to download the dataset\n",
    "# Function to download the dataset\n",
    "\n",
    "def download_file(DATASET_ID):\n",
    "  # initiate download\n",
    "  initiate_download_response = s.get(\n",
    "      f\"https://api-open.data.gov.sg/v1/public/api/datasets/{DATASET_ID}/initiate-download\",\n",
    "      headers={\"Content-Type\":\"application/json\"},\n",
    "      json={}\n",
    "  )\n",
    "  #print(initiate_download_response.json()['data']['message'])\n",
    "\n",
    "  # poll download\n",
    "  MAX_POLLS = 5\n",
    "  for i in range(MAX_POLLS):\n",
    "    poll_download_response = s.get(\n",
    "        f\"https://api-open.data.gov.sg/v1/public/api/datasets/{DATASET_ID}/poll-download\",\n",
    "        headers={\"Content-Type\":\"application/json\"},\n",
    "        json={}\n",
    "    )\n",
    "    #print(\"Poll download response:\", poll_download_response.json())\n",
    "    if \"url\" in poll_download_response.json()['data']:\n",
    "      #print(poll_download_response.json()['data']['url'])\n",
    "      DOWNLOAD_URL = poll_download_response.json()['data']['url']\n",
    "      df = pd.read_csv(DOWNLOAD_URL)\n",
    "\n",
    "      display(df.head())\n",
    "      print(\"\\nDataframe loaded!\")\n",
    "      return df\n",
    "    if i == MAX_POLLS - 1:\n",
    "      print(f\"{i+1}/{MAX_POLLS}: No result found, possible error with dataset, please try again or let us know at https://go.gov.sg/datagov-supportform\\n\")\n",
    "    else:\n",
    "      print(f\"{i+1}/{MAX_POLLS}: No result yet, continuing to poll\\n\")\n",
    "    time.sleep(3)\n",
    "\n",
    "df = download_file(DATASET_ID)"
   ]
  },
  {
   "cell_type": "code",
   "execution_count": 20,
   "id": "42d1e009",
   "metadata": {},
   "outputs": [
    {
     "data": {
      "text/html": [
       "<div>\n",
       "<style scoped>\n",
       "    .dataframe tbody tr th:only-of-type {\n",
       "        vertical-align: middle;\n",
       "    }\n",
       "\n",
       "    .dataframe tbody tr th {\n",
       "        vertical-align: top;\n",
       "    }\n",
       "\n",
       "    .dataframe thead th {\n",
       "        text-align: right;\n",
       "    }\n",
       "</style>\n",
       "<table border=\"1\" class=\"dataframe\">\n",
       "  <thead>\n",
       "    <tr style=\"text-align: right;\">\n",
       "      <th></th>\n",
       "      <th>floor_area_sqm</th>\n",
       "      <th>lease_commence_date</th>\n",
       "      <th>resale_price</th>\n",
       "    </tr>\n",
       "  </thead>\n",
       "  <tbody>\n",
       "    <tr>\n",
       "      <th>count</th>\n",
       "      <td>211086.000000</td>\n",
       "      <td>211086.000000</td>\n",
       "      <td>2.110860e+05</td>\n",
       "    </tr>\n",
       "    <tr>\n",
       "      <th>mean</th>\n",
       "      <td>96.857005</td>\n",
       "      <td>1996.341666</td>\n",
       "      <td>5.175608e+05</td>\n",
       "    </tr>\n",
       "    <tr>\n",
       "      <th>std</th>\n",
       "      <td>24.031943</td>\n",
       "      <td>14.244057</td>\n",
       "      <td>1.827699e+05</td>\n",
       "    </tr>\n",
       "    <tr>\n",
       "      <th>min</th>\n",
       "      <td>31.000000</td>\n",
       "      <td>1966.000000</td>\n",
       "      <td>1.400000e+05</td>\n",
       "    </tr>\n",
       "    <tr>\n",
       "      <th>25%</th>\n",
       "      <td>82.000000</td>\n",
       "      <td>1985.000000</td>\n",
       "      <td>3.800000e+05</td>\n",
       "    </tr>\n",
       "    <tr>\n",
       "      <th>50%</th>\n",
       "      <td>93.000000</td>\n",
       "      <td>1996.000000</td>\n",
       "      <td>4.850000e+05</td>\n",
       "    </tr>\n",
       "    <tr>\n",
       "      <th>75%</th>\n",
       "      <td>112.000000</td>\n",
       "      <td>2011.000000</td>\n",
       "      <td>6.200000e+05</td>\n",
       "    </tr>\n",
       "    <tr>\n",
       "      <th>max</th>\n",
       "      <td>366.700000</td>\n",
       "      <td>2022.000000</td>\n",
       "      <td>1.658888e+06</td>\n",
       "    </tr>\n",
       "  </tbody>\n",
       "</table>\n",
       "</div>"
      ],
      "text/plain": [
       "       floor_area_sqm  lease_commence_date  resale_price\n",
       "count   211086.000000        211086.000000  2.110860e+05\n",
       "mean        96.857005          1996.341666  5.175608e+05\n",
       "std         24.031943            14.244057  1.827699e+05\n",
       "min         31.000000          1966.000000  1.400000e+05\n",
       "25%         82.000000          1985.000000  3.800000e+05\n",
       "50%         93.000000          1996.000000  4.850000e+05\n",
       "75%        112.000000          2011.000000  6.200000e+05\n",
       "max        366.700000          2022.000000  1.658888e+06"
      ]
     },
     "metadata": {},
     "output_type": "display_data"
    }
   ],
   "source": [
    "if df is not None:\n",
    "\tdisplay(df.describe())\n",
    "else:\n",
    "\tprint(\"DataFrame 'df' is None. Please check if the dataset was loaded successfully.\")"
   ]
  },
  {
   "cell_type": "code",
   "execution_count": 21,
   "id": "0f5ba093",
   "metadata": {},
   "outputs": [],
   "source": [
    "if df is not None:\n",
    "\tdf.to_csv(\"./data/hdb_resale_price.csv\", index=False)\n",
    "else:\n",
    "\tprint(\"DataFrame 'df' is None. Please check if the dataset was downloaded successfully.\")"
   ]
  },
  {
   "cell_type": "markdown",
   "id": "db178390",
   "metadata": {},
   "source": [
    "## Load Data"
   ]
  },
  {
   "cell_type": "code",
   "execution_count": 22,
   "id": "a80ef030",
   "metadata": {},
   "outputs": [],
   "source": [
    "# Load raw data from the CSV file\n",
    "df = pd.read_csv(\"./data/hdb_resale_price.csv\")"
   ]
  },
  {
   "cell_type": "markdown",
   "id": "683e53aa",
   "metadata": {},
   "source": [
    "## Data Check"
   ]
  },
  {
   "cell_type": "code",
   "execution_count": 23,
   "id": "f113e0c2",
   "metadata": {},
   "outputs": [
    {
     "name": "stdout",
     "output_type": "stream",
     "text": [
      "Duplicates found:\n",
      "          month          town flat_type block       street_name storey_range  \\\n",
      "224     2017-01   BUKIT MERAH    4 ROOM   106    HENDERSON CRES     07 TO 09   \n",
      "243     2017-01   BUKIT MERAH    4 ROOM   106    HENDERSON CRES     07 TO 09   \n",
      "304     2017-01  CENTRAL AREA    3 ROOM   271          QUEEN ST     16 TO 18   \n",
      "305     2017-01  CENTRAL AREA    3 ROOM   271          QUEEN ST     16 TO 18   \n",
      "505     2017-01   JURONG EAST    4 ROOM   265       TOH GUAN RD     04 TO 06   \n",
      "...         ...           ...       ...   ...               ...          ...   \n",
      "205748  2025-04     SEMBAWANG    4 ROOM  103B       CANBERRA ST     04 TO 06   \n",
      "206804  2025-04      SENGKANG    4 ROOM  457B  SENGKANG WEST RD     13 TO 15   \n",
      "206805  2025-04      SENGKANG    4 ROOM  457B  SENGKANG WEST RD     13 TO 15   \n",
      "210480  2025-05        YISHUN    4 ROOM  426B     YISHUN AVE 11     10 TO 12   \n",
      "210483  2025-05        YISHUN    4 ROOM  426B     YISHUN AVE 11     10 TO 12   \n",
      "\n",
      "        floor_area_sqm flat_model  lease_commence_date     remaining_lease  \\\n",
      "224               81.0   Improved                 1975            57 years   \n",
      "243               81.0   Improved                 1975            57 years   \n",
      "304               68.0   Improved                 1979  61 years 02 months   \n",
      "305               68.0   Improved                 1979  61 years 02 months   \n",
      "505              101.0    Model A                 1998  80 years 09 months   \n",
      "...                ...        ...                  ...                 ...   \n",
      "205748            93.0    Model A                 2020  94 years 09 months   \n",
      "206804            93.0    Model A                 2020  94 years 06 months   \n",
      "206805            93.0    Model A                 2020  94 years 06 months   \n",
      "210480            92.0    Model A                 2015  88 years 11 months   \n",
      "210483            92.0    Model A                 2015  88 years 11 months   \n",
      "\n",
      "        resale_price  \n",
      "224         470000.0  \n",
      "243         470000.0  \n",
      "304         470000.0  \n",
      "305         470000.0  \n",
      "505         470000.0  \n",
      "...              ...  \n",
      "205748      610000.0  \n",
      "206804      685000.0  \n",
      "206805      685000.0  \n",
      "210480      595000.0  \n",
      "210483      595000.0  \n",
      "\n",
      "[607 rows x 11 columns]\n"
     ]
    }
   ],
   "source": [
    "# Check for duplicates\n",
    "duplicates = df[df.duplicated(keep=False)]\n",
    "if not duplicates.empty:\n",
    "    print(\"Duplicates found:\")\n",
    "    print(duplicates)\n",
    "else:\n",
    "    print(\"No duplicates found.\")"
   ]
  },
  {
   "cell_type": "code",
   "execution_count": 24,
   "id": "5cdf7a85",
   "metadata": {},
   "outputs": [
    {
     "data": {
      "text/html": [
       "<div>\n",
       "<style scoped>\n",
       "    .dataframe tbody tr th:only-of-type {\n",
       "        vertical-align: middle;\n",
       "    }\n",
       "\n",
       "    .dataframe tbody tr th {\n",
       "        vertical-align: top;\n",
       "    }\n",
       "\n",
       "    .dataframe thead th {\n",
       "        text-align: right;\n",
       "    }\n",
       "</style>\n",
       "<table border=\"1\" class=\"dataframe\">\n",
       "  <thead>\n",
       "    <tr style=\"text-align: right;\">\n",
       "      <th></th>\n",
       "      <th>month</th>\n",
       "      <th>town</th>\n",
       "      <th>flat_type</th>\n",
       "      <th>block</th>\n",
       "      <th>street_name</th>\n",
       "      <th>storey_range</th>\n",
       "      <th>floor_area_sqm</th>\n",
       "      <th>flat_model</th>\n",
       "      <th>lease_commence_date</th>\n",
       "      <th>remaining_lease</th>\n",
       "      <th>resale_price</th>\n",
       "    </tr>\n",
       "  </thead>\n",
       "  <tbody>\n",
       "    <tr>\n",
       "      <th>224</th>\n",
       "      <td>2017-01</td>\n",
       "      <td>BUKIT MERAH</td>\n",
       "      <td>4 ROOM</td>\n",
       "      <td>106</td>\n",
       "      <td>HENDERSON CRES</td>\n",
       "      <td>07 TO 09</td>\n",
       "      <td>81.0</td>\n",
       "      <td>Improved</td>\n",
       "      <td>1975</td>\n",
       "      <td>57 years</td>\n",
       "      <td>470000.0</td>\n",
       "    </tr>\n",
       "    <tr>\n",
       "      <th>243</th>\n",
       "      <td>2017-01</td>\n",
       "      <td>BUKIT MERAH</td>\n",
       "      <td>4 ROOM</td>\n",
       "      <td>106</td>\n",
       "      <td>HENDERSON CRES</td>\n",
       "      <td>07 TO 09</td>\n",
       "      <td>81.0</td>\n",
       "      <td>Improved</td>\n",
       "      <td>1975</td>\n",
       "      <td>57 years</td>\n",
       "      <td>470000.0</td>\n",
       "    </tr>\n",
       "    <tr>\n",
       "      <th>304</th>\n",
       "      <td>2017-01</td>\n",
       "      <td>CENTRAL AREA</td>\n",
       "      <td>3 ROOM</td>\n",
       "      <td>271</td>\n",
       "      <td>QUEEN ST</td>\n",
       "      <td>16 TO 18</td>\n",
       "      <td>68.0</td>\n",
       "      <td>Improved</td>\n",
       "      <td>1979</td>\n",
       "      <td>61 years 02 months</td>\n",
       "      <td>470000.0</td>\n",
       "    </tr>\n",
       "    <tr>\n",
       "      <th>305</th>\n",
       "      <td>2017-01</td>\n",
       "      <td>CENTRAL AREA</td>\n",
       "      <td>3 ROOM</td>\n",
       "      <td>271</td>\n",
       "      <td>QUEEN ST</td>\n",
       "      <td>16 TO 18</td>\n",
       "      <td>68.0</td>\n",
       "      <td>Improved</td>\n",
       "      <td>1979</td>\n",
       "      <td>61 years 02 months</td>\n",
       "      <td>470000.0</td>\n",
       "    </tr>\n",
       "    <tr>\n",
       "      <th>505</th>\n",
       "      <td>2017-01</td>\n",
       "      <td>JURONG EAST</td>\n",
       "      <td>4 ROOM</td>\n",
       "      <td>265</td>\n",
       "      <td>TOH GUAN RD</td>\n",
       "      <td>04 TO 06</td>\n",
       "      <td>101.0</td>\n",
       "      <td>Model A</td>\n",
       "      <td>1998</td>\n",
       "      <td>80 years 09 months</td>\n",
       "      <td>470000.0</td>\n",
       "    </tr>\n",
       "    <tr>\n",
       "      <th>...</th>\n",
       "      <td>...</td>\n",
       "      <td>...</td>\n",
       "      <td>...</td>\n",
       "      <td>...</td>\n",
       "      <td>...</td>\n",
       "      <td>...</td>\n",
       "      <td>...</td>\n",
       "      <td>...</td>\n",
       "      <td>...</td>\n",
       "      <td>...</td>\n",
       "      <td>...</td>\n",
       "    </tr>\n",
       "    <tr>\n",
       "      <th>201755</th>\n",
       "      <td>2025-05</td>\n",
       "      <td>HOUGANG</td>\n",
       "      <td>4 ROOM</td>\n",
       "      <td>994C</td>\n",
       "      <td>BUANGKOK LINK</td>\n",
       "      <td>10 TO 12</td>\n",
       "      <td>93.0</td>\n",
       "      <td>Model A</td>\n",
       "      <td>2021</td>\n",
       "      <td>94 years 09 months</td>\n",
       "      <td>675000.0</td>\n",
       "    </tr>\n",
       "    <tr>\n",
       "      <th>210480</th>\n",
       "      <td>2025-05</td>\n",
       "      <td>YISHUN</td>\n",
       "      <td>4 ROOM</td>\n",
       "      <td>426B</td>\n",
       "      <td>YISHUN AVE 11</td>\n",
       "      <td>10 TO 12</td>\n",
       "      <td>92.0</td>\n",
       "      <td>Model A</td>\n",
       "      <td>2015</td>\n",
       "      <td>88 years 11 months</td>\n",
       "      <td>595000.0</td>\n",
       "    </tr>\n",
       "    <tr>\n",
       "      <th>210483</th>\n",
       "      <td>2025-05</td>\n",
       "      <td>YISHUN</td>\n",
       "      <td>4 ROOM</td>\n",
       "      <td>426B</td>\n",
       "      <td>YISHUN AVE 11</td>\n",
       "      <td>10 TO 12</td>\n",
       "      <td>92.0</td>\n",
       "      <td>Model A</td>\n",
       "      <td>2015</td>\n",
       "      <td>88 years 11 months</td>\n",
       "      <td>595000.0</td>\n",
       "    </tr>\n",
       "    <tr>\n",
       "      <th>205461</th>\n",
       "      <td>2025-06</td>\n",
       "      <td>SEMBAWANG</td>\n",
       "      <td>2 ROOM</td>\n",
       "      <td>103A</td>\n",
       "      <td>CANBERRA ST</td>\n",
       "      <td>04 TO 06</td>\n",
       "      <td>38.0</td>\n",
       "      <td>2-room</td>\n",
       "      <td>2020</td>\n",
       "      <td>94 years 07 months</td>\n",
       "      <td>350000.0</td>\n",
       "    </tr>\n",
       "    <tr>\n",
       "      <th>205463</th>\n",
       "      <td>2025-06</td>\n",
       "      <td>SEMBAWANG</td>\n",
       "      <td>2 ROOM</td>\n",
       "      <td>103A</td>\n",
       "      <td>CANBERRA ST</td>\n",
       "      <td>04 TO 06</td>\n",
       "      <td>38.0</td>\n",
       "      <td>2-room</td>\n",
       "      <td>2020</td>\n",
       "      <td>94 years 07 months</td>\n",
       "      <td>350000.0</td>\n",
       "    </tr>\n",
       "  </tbody>\n",
       "</table>\n",
       "<p>607 rows × 11 columns</p>\n",
       "</div>"
      ],
      "text/plain": [
       "          month          town flat_type block     street_name storey_range  \\\n",
       "224     2017-01   BUKIT MERAH    4 ROOM   106  HENDERSON CRES     07 TO 09   \n",
       "243     2017-01   BUKIT MERAH    4 ROOM   106  HENDERSON CRES     07 TO 09   \n",
       "304     2017-01  CENTRAL AREA    3 ROOM   271        QUEEN ST     16 TO 18   \n",
       "305     2017-01  CENTRAL AREA    3 ROOM   271        QUEEN ST     16 TO 18   \n",
       "505     2017-01   JURONG EAST    4 ROOM   265     TOH GUAN RD     04 TO 06   \n",
       "...         ...           ...       ...   ...             ...          ...   \n",
       "201755  2025-05       HOUGANG    4 ROOM  994C   BUANGKOK LINK     10 TO 12   \n",
       "210480  2025-05        YISHUN    4 ROOM  426B   YISHUN AVE 11     10 TO 12   \n",
       "210483  2025-05        YISHUN    4 ROOM  426B   YISHUN AVE 11     10 TO 12   \n",
       "205461  2025-06     SEMBAWANG    2 ROOM  103A     CANBERRA ST     04 TO 06   \n",
       "205463  2025-06     SEMBAWANG    2 ROOM  103A     CANBERRA ST     04 TO 06   \n",
       "\n",
       "        floor_area_sqm flat_model  lease_commence_date     remaining_lease  \\\n",
       "224               81.0   Improved                 1975            57 years   \n",
       "243               81.0   Improved                 1975            57 years   \n",
       "304               68.0   Improved                 1979  61 years 02 months   \n",
       "305               68.0   Improved                 1979  61 years 02 months   \n",
       "505              101.0    Model A                 1998  80 years 09 months   \n",
       "...                ...        ...                  ...                 ...   \n",
       "201755            93.0    Model A                 2021  94 years 09 months   \n",
       "210480            92.0    Model A                 2015  88 years 11 months   \n",
       "210483            92.0    Model A                 2015  88 years 11 months   \n",
       "205461            38.0     2-room                 2020  94 years 07 months   \n",
       "205463            38.0     2-room                 2020  94 years 07 months   \n",
       "\n",
       "        resale_price  \n",
       "224         470000.0  \n",
       "243         470000.0  \n",
       "304         470000.0  \n",
       "305         470000.0  \n",
       "505         470000.0  \n",
       "...              ...  \n",
       "201755      675000.0  \n",
       "210480      595000.0  \n",
       "210483      595000.0  \n",
       "205461      350000.0  \n",
       "205463      350000.0  \n",
       "\n",
       "[607 rows x 11 columns]"
      ]
     },
     "execution_count": 24,
     "metadata": {},
     "output_type": "execute_result"
    }
   ],
   "source": [
    "# Show the duplicates for visual inspection\n",
    "df[df.duplicated(keep=False)].sort_values(by=list(df.columns))  "
   ]
  },
  {
   "cell_type": "markdown",
   "id": "949e74a9",
   "metadata": {},
   "source": [
    "**There could be two possible reasons for duplications. The first reason is duplicate submission to the system. The second reason is there is a very slim possibility that there could be a similar sales at the same location, same type, within the same 3 storey range and sell at a same price.**"
   ]
  },
  {
   "cell_type": "code",
   "execution_count": 25,
   "id": "37e399ae",
   "metadata": {},
   "outputs": [
    {
     "name": "stdout",
     "output_type": "stream",
     "text": [
      "The number of duplicates is 304, which is 0.14% of the entire dataset. \n"
     ]
    }
   ],
   "source": [
    "# compute the percentage of duplicates in the dataset\n",
    "duplicates_percentage = df.duplicated().sum() / len(df) * 100\n",
    "print(f'The number of duplicates is {df.duplicated().sum()}, which is {duplicates_percentage:.2f}% of the entire dataset. ')"
   ]
  },
  {
   "cell_type": "markdown",
   "id": "d64816da",
   "metadata": {},
   "source": [
    "**Since duplicated data is less than 1% of the entire dataset, we will remove the duplicates as it would not have impacted our analysis or prediction.**"
   ]
  },
  {
   "cell_type": "code",
   "execution_count": 26,
   "id": "db6277ae",
   "metadata": {},
   "outputs": [],
   "source": [
    "# Remove duplicates\n",
    "df = df.drop_duplicates()"
   ]
  },
  {
   "cell_type": "code",
   "execution_count": 27,
   "id": "4b617a95",
   "metadata": {},
   "outputs": [
    {
     "data": {
      "text/plain": [
       "np.int64(0)"
      ]
     },
     "execution_count": 27,
     "metadata": {},
     "output_type": "execute_result"
    }
   ],
   "source": [
    "# check if there are any duplicates in the dataset for confirmation\n",
    "df.duplicated().sum()"
   ]
  },
  {
   "cell_type": "code",
   "execution_count": 28,
   "id": "e3410266",
   "metadata": {},
   "outputs": [
    {
     "data": {
      "text/plain": [
       "210782"
      ]
     },
     "execution_count": 28,
     "metadata": {},
     "output_type": "execute_result"
    }
   ],
   "source": [
    "len(df)"
   ]
  },
  {
   "cell_type": "markdown",
   "id": "d8a9ee5a",
   "metadata": {},
   "source": [
    "### Detecting Missing Values"
   ]
  },
  {
   "cell_type": "code",
   "execution_count": 29,
   "id": "227707c2",
   "metadata": {},
   "outputs": [
    {
     "data": {
      "text/plain": [
       "month                  0\n",
       "town                   0\n",
       "flat_type              0\n",
       "block                  0\n",
       "street_name            0\n",
       "storey_range           0\n",
       "floor_area_sqm         0\n",
       "flat_model             0\n",
       "lease_commence_date    0\n",
       "remaining_lease        0\n",
       "resale_price           0\n",
       "dtype: int64"
      ]
     },
     "execution_count": 29,
     "metadata": {},
     "output_type": "execute_result"
    }
   ],
   "source": [
    "# check if there are any missing values in the dataset\n",
    "df.isnull().sum()"
   ]
  },
  {
   "cell_type": "markdown",
   "id": "21e57708",
   "metadata": {},
   "source": [
    "### Data Structure Analysis"
   ]
  },
  {
   "cell_type": "code",
   "execution_count": 30,
   "id": "cb9a9646",
   "metadata": {},
   "outputs": [
    {
     "name": "stdout",
     "output_type": "stream",
     "text": [
      "<class 'pandas.core.frame.DataFrame'>\n",
      "Index: 210782 entries, 0 to 211085\n",
      "Data columns (total 11 columns):\n",
      " #   Column               Non-Null Count   Dtype  \n",
      "---  ------               --------------   -----  \n",
      " 0   month                210782 non-null  object \n",
      " 1   town                 210782 non-null  object \n",
      " 2   flat_type            210782 non-null  object \n",
      " 3   block                210782 non-null  object \n",
      " 4   street_name          210782 non-null  object \n",
      " 5   storey_range         210782 non-null  object \n",
      " 6   floor_area_sqm       210782 non-null  float64\n",
      " 7   flat_model           210782 non-null  object \n",
      " 8   lease_commence_date  210782 non-null  int64  \n",
      " 9   remaining_lease      210782 non-null  object \n",
      " 10  resale_price         210782 non-null  float64\n",
      "dtypes: float64(2), int64(1), object(8)\n",
      "memory usage: 19.3+ MB\n"
     ]
    }
   ],
   "source": [
    "# display the information and data structure of the dataset\n",
    "df.info()"
   ]
  },
  {
   "cell_type": "markdown",
   "id": "6430deee",
   "metadata": {},
   "source": [
    "## END"
   ]
  }
 ],
 "metadata": {
  "kernelspec": {
   "display_name": "hdbelt",
   "language": "python",
   "name": "python3"
  },
  "language_info": {
   "codemirror_mode": {
    "name": "ipython",
    "version": 3
   },
   "file_extension": ".py",
   "mimetype": "text/x-python",
   "name": "python",
   "nbconvert_exporter": "python",
   "pygments_lexer": "ipython3",
   "version": "3.11.13"
  }
 },
 "nbformat": 4,
 "nbformat_minor": 5
}
